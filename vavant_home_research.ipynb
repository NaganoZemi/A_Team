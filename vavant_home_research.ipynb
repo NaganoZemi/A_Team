{
  "nbformat": 4,
  "nbformat_minor": 0,
  "metadata": {
    "colab": {
      "provenance": [],
      "authorship_tag": "ABX9TyMap7auQSCf+P5whn46c3CP",
      "include_colab_link": true
    },
    "kernelspec": {
      "name": "python3",
      "display_name": "Python 3"
    },
    "language_info": {
      "name": "python"
    }
  },
  "cells": [
    {
      "cell_type": "markdown",
      "metadata": {
        "id": "view-in-github",
        "colab_type": "text"
      },
      "source": [
        "<a href=\"https://colab.research.google.com/github/NaganoZemi/A_Team/blob/main/vavant_home_research.ipynb\" target=\"_parent\"><img src=\"https://colab.research.google.com/assets/colab-badge.svg\" alt=\"Open In Colab\"/></a>"
      ]
    },
    {
      "cell_type": "code",
      "execution_count": null,
      "metadata": {
        "id": "NkEfEq9p9tO1",
        "colab": {
          "base_uri": "https://localhost:8080/",
          "height": 317
        },
        "outputId": "11286cce-af5b-4399-8735-7483c912c56c"
      },
      "outputs": [
        {
          "output_type": "stream",
          "name": "stdout",
          "text": [
            "(47, 28)\n"
          ]
        },
        {
          "output_type": "execute_result",
          "data": {
            "text/plain": [
              "   birthrate  emirate  mariirate  total_area  habit_area  Annu_ave_temp  \\\n",
              "0       1.27     1.09       4.34      834.24        28.5            9.5   \n",
              "1       1.43     1.88       3.75       96.46        33.5           11.0   \n",
              "2       1.41     1.78       3.58      152.75        24.3           11.0   \n",
              "3       1.30     2.13       4.46       72.82        43.3           13.6   \n",
              "4       1.33     1.57       3.11      116.38        27.5           12.3   \n",
              "\n",
              "   Annu_snow_day  productivity_land  ship_value_goods  \\\n",
              "0            131              110.0            3774.7   \n",
              "1            117              213.4            3136.0   \n",
              "2            106              181.7            3146.9   \n",
              "3             63              152.8            3981.6   \n",
              "4            101              124.9            2120.0   \n",
              "\n",
              "   ship_values_goods_oneman  ...  D310411  D3203086   H1616  K4201   L3130  \\\n",
              "0                    3459.2  ...   220791  66418069  125000  25459  457545   \n",
              "1                    2780.0  ...     8994   7153410   52600   4060  383704   \n",
              "2                    2791.6  ...   584583  20974380   61300   3458  472114   \n",
              "3                    4174.2  ...  1628622  50431709   62200  13755  377797   \n",
              "4                    2596.2  ...        0   3459146   51100   2460  482684   \n",
              "\n",
              "   H06406  J022011  J02205  K04101  H01405  \n",
              "0    96.1     89.4    22.2   187.9    13.5  \n",
              "1    93.9    136.9    23.3   234.8    15.0  \n",
              "2    91.5     86.6    29.3   159.7    16.1  \n",
              "3    99.1     61.1    24.3   294.3    12.0  \n",
              "4    97.6     78.7    34.2   181.9    13.6  \n",
              "\n",
              "[5 rows x 28 columns]"
            ],
            "text/html": [
              "\n",
              "  <div id=\"df-0132ef16-cc16-4b13-a0c5-8ac5df439934\">\n",
              "    <div class=\"colab-df-container\">\n",
              "      <div>\n",
              "<style scoped>\n",
              "    .dataframe tbody tr th:only-of-type {\n",
              "        vertical-align: middle;\n",
              "    }\n",
              "\n",
              "    .dataframe tbody tr th {\n",
              "        vertical-align: top;\n",
              "    }\n",
              "\n",
              "    .dataframe thead th {\n",
              "        text-align: right;\n",
              "    }\n",
              "</style>\n",
              "<table border=\"1\" class=\"dataframe\">\n",
              "  <thead>\n",
              "    <tr style=\"text-align: right;\">\n",
              "      <th></th>\n",
              "      <th>birthrate</th>\n",
              "      <th>emirate</th>\n",
              "      <th>mariirate</th>\n",
              "      <th>total_area</th>\n",
              "      <th>habit_area</th>\n",
              "      <th>Annu_ave_temp</th>\n",
              "      <th>Annu_snow_day</th>\n",
              "      <th>productivity_land</th>\n",
              "      <th>ship_value_goods</th>\n",
              "      <th>ship_values_goods_oneman</th>\n",
              "      <th>...</th>\n",
              "      <th>D310411</th>\n",
              "      <th>D3203086</th>\n",
              "      <th>H1616</th>\n",
              "      <th>K4201</th>\n",
              "      <th>L3130</th>\n",
              "      <th>H06406</th>\n",
              "      <th>J022011</th>\n",
              "      <th>J02205</th>\n",
              "      <th>K04101</th>\n",
              "      <th>H01405</th>\n",
              "    </tr>\n",
              "  </thead>\n",
              "  <tbody>\n",
              "    <tr>\n",
              "      <th>0</th>\n",
              "      <td>1.27</td>\n",
              "      <td>1.09</td>\n",
              "      <td>4.34</td>\n",
              "      <td>834.24</td>\n",
              "      <td>28.5</td>\n",
              "      <td>9.5</td>\n",
              "      <td>131</td>\n",
              "      <td>110.0</td>\n",
              "      <td>3774.7</td>\n",
              "      <td>3459.2</td>\n",
              "      <td>...</td>\n",
              "      <td>220791</td>\n",
              "      <td>66418069</td>\n",
              "      <td>125000</td>\n",
              "      <td>25459</td>\n",
              "      <td>457545</td>\n",
              "      <td>96.1</td>\n",
              "      <td>89.4</td>\n",
              "      <td>22.2</td>\n",
              "      <td>187.9</td>\n",
              "      <td>13.5</td>\n",
              "    </tr>\n",
              "    <tr>\n",
              "      <th>1</th>\n",
              "      <td>1.43</td>\n",
              "      <td>1.88</td>\n",
              "      <td>3.75</td>\n",
              "      <td>96.46</td>\n",
              "      <td>33.5</td>\n",
              "      <td>11.0</td>\n",
              "      <td>117</td>\n",
              "      <td>213.4</td>\n",
              "      <td>3136.0</td>\n",
              "      <td>2780.0</td>\n",
              "      <td>...</td>\n",
              "      <td>8994</td>\n",
              "      <td>7153410</td>\n",
              "      <td>52600</td>\n",
              "      <td>4060</td>\n",
              "      <td>383704</td>\n",
              "      <td>93.9</td>\n",
              "      <td>136.9</td>\n",
              "      <td>23.3</td>\n",
              "      <td>234.8</td>\n",
              "      <td>15.0</td>\n",
              "    </tr>\n",
              "    <tr>\n",
              "      <th>2</th>\n",
              "      <td>1.41</td>\n",
              "      <td>1.78</td>\n",
              "      <td>3.58</td>\n",
              "      <td>152.75</td>\n",
              "      <td>24.3</td>\n",
              "      <td>11.0</td>\n",
              "      <td>106</td>\n",
              "      <td>181.7</td>\n",
              "      <td>3146.9</td>\n",
              "      <td>2791.6</td>\n",
              "      <td>...</td>\n",
              "      <td>584583</td>\n",
              "      <td>20974380</td>\n",
              "      <td>61300</td>\n",
              "      <td>3458</td>\n",
              "      <td>472114</td>\n",
              "      <td>91.5</td>\n",
              "      <td>86.6</td>\n",
              "      <td>29.3</td>\n",
              "      <td>159.7</td>\n",
              "      <td>16.1</td>\n",
              "    </tr>\n",
              "    <tr>\n",
              "      <th>3</th>\n",
              "      <td>1.30</td>\n",
              "      <td>2.13</td>\n",
              "      <td>4.46</td>\n",
              "      <td>72.82</td>\n",
              "      <td>43.3</td>\n",
              "      <td>13.6</td>\n",
              "      <td>63</td>\n",
              "      <td>152.8</td>\n",
              "      <td>3981.6</td>\n",
              "      <td>4174.2</td>\n",
              "      <td>...</td>\n",
              "      <td>1628622</td>\n",
              "      <td>50431709</td>\n",
              "      <td>62200</td>\n",
              "      <td>13755</td>\n",
              "      <td>377797</td>\n",
              "      <td>99.1</td>\n",
              "      <td>61.1</td>\n",
              "      <td>24.3</td>\n",
              "      <td>294.3</td>\n",
              "      <td>12.0</td>\n",
              "    </tr>\n",
              "    <tr>\n",
              "      <th>4</th>\n",
              "      <td>1.33</td>\n",
              "      <td>1.57</td>\n",
              "      <td>3.11</td>\n",
              "      <td>116.38</td>\n",
              "      <td>27.5</td>\n",
              "      <td>12.3</td>\n",
              "      <td>101</td>\n",
              "      <td>124.9</td>\n",
              "      <td>2120.0</td>\n",
              "      <td>2596.2</td>\n",
              "      <td>...</td>\n",
              "      <td>0</td>\n",
              "      <td>3459146</td>\n",
              "      <td>51100</td>\n",
              "      <td>2460</td>\n",
              "      <td>482684</td>\n",
              "      <td>97.6</td>\n",
              "      <td>78.7</td>\n",
              "      <td>34.2</td>\n",
              "      <td>181.9</td>\n",
              "      <td>13.6</td>\n",
              "    </tr>\n",
              "  </tbody>\n",
              "</table>\n",
              "<p>5 rows × 28 columns</p>\n",
              "</div>\n",
              "      <button class=\"colab-df-convert\" onclick=\"convertToInteractive('df-0132ef16-cc16-4b13-a0c5-8ac5df439934')\"\n",
              "              title=\"Convert this dataframe to an interactive table.\"\n",
              "              style=\"display:none;\">\n",
              "        \n",
              "  <svg xmlns=\"http://www.w3.org/2000/svg\" height=\"24px\"viewBox=\"0 0 24 24\"\n",
              "       width=\"24px\">\n",
              "    <path d=\"M0 0h24v24H0V0z\" fill=\"none\"/>\n",
              "    <path d=\"M18.56 5.44l.94 2.06.94-2.06 2.06-.94-2.06-.94-.94-2.06-.94 2.06-2.06.94zm-11 1L8.5 8.5l.94-2.06 2.06-.94-2.06-.94L8.5 2.5l-.94 2.06-2.06.94zm10 10l.94 2.06.94-2.06 2.06-.94-2.06-.94-.94-2.06-.94 2.06-2.06.94z\"/><path d=\"M17.41 7.96l-1.37-1.37c-.4-.4-.92-.59-1.43-.59-.52 0-1.04.2-1.43.59L10.3 9.45l-7.72 7.72c-.78.78-.78 2.05 0 2.83L4 21.41c.39.39.9.59 1.41.59.51 0 1.02-.2 1.41-.59l7.78-7.78 2.81-2.81c.8-.78.8-2.07 0-2.86zM5.41 20L4 18.59l7.72-7.72 1.47 1.35L5.41 20z\"/>\n",
              "  </svg>\n",
              "      </button>\n",
              "      \n",
              "  <style>\n",
              "    .colab-df-container {\n",
              "      display:flex;\n",
              "      flex-wrap:wrap;\n",
              "      gap: 12px;\n",
              "    }\n",
              "\n",
              "    .colab-df-convert {\n",
              "      background-color: #E8F0FE;\n",
              "      border: none;\n",
              "      border-radius: 50%;\n",
              "      cursor: pointer;\n",
              "      display: none;\n",
              "      fill: #1967D2;\n",
              "      height: 32px;\n",
              "      padding: 0 0 0 0;\n",
              "      width: 32px;\n",
              "    }\n",
              "\n",
              "    .colab-df-convert:hover {\n",
              "      background-color: #E2EBFA;\n",
              "      box-shadow: 0px 1px 2px rgba(60, 64, 67, 0.3), 0px 1px 3px 1px rgba(60, 64, 67, 0.15);\n",
              "      fill: #174EA6;\n",
              "    }\n",
              "\n",
              "    [theme=dark] .colab-df-convert {\n",
              "      background-color: #3B4455;\n",
              "      fill: #D2E3FC;\n",
              "    }\n",
              "\n",
              "    [theme=dark] .colab-df-convert:hover {\n",
              "      background-color: #434B5C;\n",
              "      box-shadow: 0px 1px 3px 1px rgba(0, 0, 0, 0.15);\n",
              "      filter: drop-shadow(0px 1px 2px rgba(0, 0, 0, 0.3));\n",
              "      fill: #FFFFFF;\n",
              "    }\n",
              "  </style>\n",
              "\n",
              "      <script>\n",
              "        const buttonEl =\n",
              "          document.querySelector('#df-0132ef16-cc16-4b13-a0c5-8ac5df439934 button.colab-df-convert');\n",
              "        buttonEl.style.display =\n",
              "          google.colab.kernel.accessAllowed ? 'block' : 'none';\n",
              "\n",
              "        async function convertToInteractive(key) {\n",
              "          const element = document.querySelector('#df-0132ef16-cc16-4b13-a0c5-8ac5df439934');\n",
              "          const dataTable =\n",
              "            await google.colab.kernel.invokeFunction('convertToInteractive',\n",
              "                                                     [key], {});\n",
              "          if (!dataTable) return;\n",
              "\n",
              "          const docLinkHtml = 'Like what you see? Visit the ' +\n",
              "            '<a target=\"_blank\" href=https://colab.research.google.com/notebooks/data_table.ipynb>data table notebook</a>'\n",
              "            + ' to learn more about interactive tables.';\n",
              "          element.innerHTML = '';\n",
              "          dataTable['output_type'] = 'display_data';\n",
              "          await google.colab.output.renderOutput(dataTable, element);\n",
              "          const docLink = document.createElement('div');\n",
              "          docLink.innerHTML = docLinkHtml;\n",
              "          element.appendChild(docLink);\n",
              "        }\n",
              "      </script>\n",
              "    </div>\n",
              "  </div>\n",
              "  "
            ]
          },
          "metadata": {},
          "execution_count": 5
        }
      ],
      "source": [
        "import pandas as pd\n",
        "import numpy as np\n",
        "import matplotlib.pyplot as plt\n",
        "import seaborn as sns\n",
        "\n",
        "#各分析に必要なライブラリを読み込む"
      ]
    },
    {
      "cell_type": "code",
      "source": [
        "df = pd.read_excel('AtoH_2018fin.xlsx')\n",
        "#ここでは空き家の分析を行っているため空き家に関するデータを用いている\n",
        "#データは国が公開してるオープンデータであるe-statを用いた\n",
        "#e-statには様々な統計指標があるため、自分でAI（テーブルデータ分析）を学ぶ際に非常に参考になるデータである\n",
        "print(df.shape)\n",
        "df.head()"
      ],
      "metadata": {
        "id": "AiK7PIJ6rCAd"
      },
      "execution_count": null,
      "outputs": []
    },
    {
      "cell_type": "code",
      "source": [
        "df.isnull().sum()\n",
        "#欠損値が各変数にないかを確認している"
      ],
      "metadata": {
        "colab": {
          "base_uri": "https://localhost:8080/"
        },
        "id": "931YqRijqfm3",
        "outputId": "7bcf3eeb-e69e-4ded-d548-75b2f325fe98"
      },
      "execution_count": null,
      "outputs": [
        {
          "output_type": "execute_result",
          "data": {
            "text/plain": [
              "birthrate                   0\n",
              "emirate                     0\n",
              "mariirate                   0\n",
              "total_area                  0\n",
              "habit_area                  0\n",
              "Annu_ave_temp               0\n",
              "Annu_snow_day               0\n",
              "productivity_land           0\n",
              "ship_value_goods            0\n",
              "ship_values_goods_oneman    0\n",
              "deposit                     0\n",
              "ac_balance_ratio            0\n",
              "E0110101                    0\n",
              "E0110102                    0\n",
              "E0110103                    0\n",
              "G01101                      0\n",
              "G01104                      0\n",
              "A1306                       0\n",
              "D310411                     0\n",
              "D3203086                    0\n",
              "H1616                       0\n",
              "K4201                       0\n",
              "L3130                       0\n",
              "H06406                      0\n",
              "J022011                     0\n",
              "J02205                      0\n",
              "K04101                      0\n",
              "H01405                      0\n",
              "fold                        0\n",
              "dtype: int64"
            ]
          },
          "metadata": {},
          "execution_count": 9
        }
      ]
    },
    {
      "cell_type": "code",
      "source": [
        "df.shape\n",
        "#行と列"
      ],
      "metadata": {
        "colab": {
          "base_uri": "https://localhost:8080/"
        },
        "id": "FJsA_YugqnbN",
        "outputId": "eb5d408a-c05d-40a7-b6ac-0664bcd03308"
      },
      "execution_count": null,
      "outputs": [
        {
          "output_type": "execute_result",
          "data": {
            "text/plain": [
              "(47, 29)"
            ]
          },
          "metadata": {},
          "execution_count": 10
        }
      ]
    },
    {
      "cell_type": "code",
      "source": [
        "plt.figure(figsize=(12,8))\n",
        "plt.hist(df['H01405'], bins = 100)\n",
        "plt.show()\n",
        "#ここでは、分散の度合いを一つの変数について観測できるよう図表化している\n",
        "#変数を変えれば他のも見れる"
      ],
      "metadata": {
        "colab": {
          "base_uri": "https://localhost:8080/",
          "height": 483
        },
        "id": "ptuGx1ctq_-c",
        "outputId": "9520782d-5730-4848-a908-1c42b31ad967"
      },
      "execution_count": null,
      "outputs": [
        {
          "output_type": "display_data",
          "data": {
            "text/plain": [
              "<Figure size 864x576 with 1 Axes>"
            ],
            "image/png": "[encoded data removed]"
          },
          "metadata": {
            "needs_background": "light"
          }
        }
      ]
    },
    {
      "cell_type": "code",
      "source": [
        "df.describe()\n",
        "#ここでは各変数の大まかな統計量について観測している"
      ],
      "metadata": {
        "colab": {
          "base_uri": "https://localhost:8080/",
          "height": 393
        },
        "id": "c3unD0aur0mT",
        "outputId": "2486e112-830a-4300-f5e6-5a0d10ffee60"
      },
      "execution_count": null,
      "outputs": [
        {
          "output_type": "execute_result",
          "data": {
            "text/plain": [
              "       birthrate    emirate  mariirate  total_area  habit_area  Annu_ave_temp  \\\n",
              "count  47.000000  47.000000  47.000000   47.000000    47.00000      47.000000   \n",
              "mean    1.503404   1.885957   4.283404   80.420426    37.30000      16.029787   \n",
              "std     0.138239   0.297377   0.483391  116.948054    14.93349       2.296492   \n",
              "min     1.200000   1.090000   3.110000   18.770000    16.40000       9.500000   \n",
              "25%     1.420000   1.710000   4.015000   41.665000    25.70000      15.300000   \n",
              "50%     1.520000   1.880000   4.240000   60.970000    33.10000      16.800000   \n",
              "75%     1.560000   2.080000   4.450000   80.890000    44.95000      17.250000   \n",
              "max     1.890000   2.750000   5.980000  834.240000    69.80000      23.500000   \n",
              "\n",
              "       Annu_snow_day  productivity_land  ship_value_goods  \\\n",
              "count       47.00000          47.000000         47.000000   \n",
              "mean        35.12766         250.202128       3939.668085   \n",
              "std         33.20792          97.066697       1224.340952   \n",
              "min          0.00000         110.000000       1914.500000   \n",
              "25%         13.00000         185.350000       3064.150000   \n",
              "50%         20.00000         233.000000       3566.300000   \n",
              "75%         53.50000         323.200000       4645.950000   \n",
              "max        131.00000         516.400000       7201.400000   \n",
              "\n",
              "       ship_values_goods_oneman  ...      D3203086          H1616  \\\n",
              "count                 47.000000  ...  4.700000e+01      47.000000   \n",
              "mean                3007.514894  ...  1.362474e+07   97121.276596   \n",
              "std                  863.966599  ...  1.570876e+07   74340.886217   \n",
              "min                 1991.700000  ...  2.106321e+06   31000.000000   \n",
              "25%                 2592.850000  ...  3.847698e+06   51850.000000   \n",
              "50%                 2780.000000  ...  6.842161e+06   74800.000000   \n",
              "75%                 3122.850000  ...  1.357755e+07  107800.000000   \n",
              "max                 7496.500000  ...  6.641807e+07  380800.000000   \n",
              "\n",
              "               K4201          L3130      H06406     J022011     J02205  \\\n",
              "count      47.000000      47.000000   47.000000   47.000000  47.000000   \n",
              "mean    17390.170213  455500.234043   97.819149   81.068085  25.329787   \n",
              "std     23847.834214   46419.102206    1.871948   30.778847   4.678996   \n",
              "min      2110.000000  355137.000000   91.500000   42.100000  14.700000   \n",
              "25%      4091.500000  432661.500000   96.850000   59.900000  23.000000   \n",
              "50%      7967.000000  454000.000000   98.300000   73.700000  24.700000   \n",
              "75%     15566.000000  487821.500000   99.200000   92.350000  28.600000   \n",
              "max    114492.000000  535451.000000  100.000000  180.400000  40.300000   \n",
              "\n",
              "           K04101     H01405       fold  \n",
              "count   47.000000  47.000000  47.000000  \n",
              "mean   332.114894  15.021277   1.936170  \n",
              "std    152.064230   2.684977   1.435637  \n",
              "min    150.400000  10.200000   0.000000  \n",
              "25%    239.950000  13.350000   1.000000  \n",
              "50%    292.700000  15.000000   2.000000  \n",
              "75%    371.550000  16.550000   3.000000  \n",
              "max    776.200000  21.300000   4.000000  \n",
              "\n",
              "[8 rows x 29 columns]"
            ],
            "text/html": [
              "\n",
              "  <div id=\"df-796a1f3b-2b72-4ccc-b9d1-20e75105cc27\">\n",
              "    <div class=\"colab-df-container\">\n",
              "      <div>\n",
              "<style scoped>\n",
              "    .dataframe tbody tr th:only-of-type {\n",
              "        vertical-align: middle;\n",
              "    }\n",
              "\n",
              "    .dataframe tbody tr th {\n",
              "        vertical-align: top;\n",
              "    }\n",
              "\n",
              "    .dataframe thead th {\n",
              "        text-align: right;\n",
              "    }\n",
              "</style>\n",
              "<table border=\"1\" class=\"dataframe\">\n",
              "  <thead>\n",
              "    <tr style=\"text-align: right;\">\n",
              "      <th></th>\n",
              "      <th>birthrate</th>\n",
              "      <th>emirate</th>\n",
              "      <th>mariirate</th>\n",
              "      <th>total_area</th>\n",
              "      <th>habit_area</th>\n",
              "      <th>Annu_ave_temp</th>\n",
              "      <th>Annu_snow_day</th>\n",
              "      <th>productivity_land</th>\n",
              "      <th>ship_value_goods</th>\n",
              "      <th>ship_values_goods_oneman</th>\n",
              "      <th>...</th>\n",
              "      <th>D3203086</th>\n",
              "      <th>H1616</th>\n",
              "      <th>K4201</th>\n",
              "      <th>L3130</th>\n",
              "      <th>H06406</th>\n",
              "      <th>J022011</th>\n",
              "      <th>J02205</th>\n",
              "      <th>K04101</th>\n",
              "      <th>H01405</th>\n",
              "      <th>fold</th>\n",
              "    </tr>\n",
              "  </thead>\n",
              "  <tbody>\n",
              "    <tr>\n",
              "      <th>count</th>\n",
              "      <td>47.000000</td>\n",
              "      <td>47.000000</td>\n",
              "      <td>47.000000</td>\n",
              "      <td>47.000000</td>\n",
              "      <td>47.00000</td>\n",
              "      <td>47.000000</td>\n",
              "      <td>47.00000</td>\n",
              "      <td>47.000000</td>\n",
              "      <td>47.000000</td>\n",
              "      <td>47.000000</td>\n",
              "      <td>...</td>\n",
              "      <td>4.700000e+01</td>\n",
              "      <td>47.000000</td>\n",
              "      <td>47.000000</td>\n",
              "      <td>47.000000</td>\n",
              "      <td>47.000000</td>\n",
              "      <td>47.000000</td>\n",
              "      <td>47.000000</td>\n",
              "      <td>47.000000</td>\n",
              "      <td>47.000000</td>\n",
              "      <td>47.000000</td>\n",
              "    </tr>\n",
              "    <tr>\n",
              "      <th>mean</th>\n",
              "      <td>1.503404</td>\n",
              "      <td>1.885957</td>\n",
              "      <td>4.283404</td>\n",
              "      <td>80.420426</td>\n",
              "      <td>37.30000</td>\n",
              "      <td>16.029787</td>\n",
              "      <td>35.12766</td>\n",
              "      <td>250.202128</td>\n",
              "      <td>3939.668085</td>\n",
              "      <td>3007.514894</td>\n",
              "      <td>...</td>\n",
              "      <td>1.362474e+07</td>\n",
              "      <td>97121.276596</td>\n",
              "      <td>17390.170213</td>\n",
              "      <td>455500.234043</td>\n",
              "      <td>97.819149</td>\n",
              "      <td>81.068085</td>\n",
              "      <td>25.329787</td>\n",
              "      <td>332.114894</td>\n",
              "      <td>15.021277</td>\n",
              "      <td>1.936170</td>\n",
              "    </tr>\n",
              "    <tr>\n",
              "      <th>std</th>\n",
              "      <td>0.138239</td>\n",
              "      <td>0.297377</td>\n",
              "      <td>0.483391</td>\n",
              "      <td>116.948054</td>\n",
              "      <td>14.93349</td>\n",
              "      <td>2.296492</td>\n",
              "      <td>33.20792</td>\n",
              "      <td>97.066697</td>\n",
              "      <td>1224.340952</td>\n",
              "      <td>863.966599</td>\n",
              "      <td>...</td>\n",
              "      <td>1.570876e+07</td>\n",
              "      <td>74340.886217</td>\n",
              "      <td>23847.834214</td>\n",
              "      <td>46419.102206</td>\n",
              "      <td>1.871948</td>\n",
              "      <td>30.778847</td>\n",
              "      <td>4.678996</td>\n",
              "      <td>152.064230</td>\n",
              "      <td>2.684977</td>\n",
              "      <td>1.435637</td>\n",
              "    </tr>\n",
              "    <tr>\n",
              "      <th>min</th>\n",
              "      <td>1.200000</td>\n",
              "      <td>1.090000</td>\n",
              "      <td>3.110000</td>\n",
              "      <td>18.770000</td>\n",
              "      <td>16.40000</td>\n",
              "      <td>9.500000</td>\n",
              "      <td>0.00000</td>\n",
              "      <td>110.000000</td>\n",
              "      <td>1914.500000</td>\n",
              "      <td>1991.700000</td>\n",
              "      <td>...</td>\n",
              "      <td>2.106321e+06</td>\n",
              "      <td>31000.000000</td>\n",
              "      <td>2110.000000</td>\n",
              "      <td>355137.000000</td>\n",
              "      <td>91.500000</td>\n",
              "      <td>42.100000</td>\n",
              "      <td>14.700000</td>\n",
              "      <td>150.400000</td>\n",
              "      <td>10.200000</td>\n",
              "      <td>0.000000</td>\n",
              "    </tr>\n",
              "    <tr>\n",
              "      <th>25%</th>\n",
              "      <td>1.420000</td>\n",
              "      <td>1.710000</td>\n",
              "      <td>4.015000</td>\n",
              "      <td>41.665000</td>\n",
              "      <td>25.70000</td>\n",
              "      <td>15.300000</td>\n",
              "      <td>13.00000</td>\n",
              "      <td>185.350000</td>\n",
              "      <td>3064.150000</td>\n",
              "      <td>2592.850000</td>\n",
              "      <td>...</td>\n",
              "      <td>3.847698e+06</td>\n",
              "      <td>51850.000000</td>\n",
              "      <td>4091.500000</td>\n",
              "      <td>432661.500000</td>\n",
              "      <td>96.850000</td>\n",
              "      <td>59.900000</td>\n",
              "      <td>23.000000</td>\n",
              "      <td>239.950000</td>\n",
              "      <td>13.350000</td>\n",
              "      <td>1.000000</td>\n",
              "    </tr>\n",
              "    <tr>\n",
              "      <th>50%</th>\n",
              "      <td>1.520000</td>\n",
              "      <td>1.880000</td>\n",
              "      <td>4.240000</td>\n",
              "      <td>60.970000</td>\n",
              "      <td>33.10000</td>\n",
              "      <td>16.800000</td>\n",
              "      <td>20.00000</td>\n",
              "      <td>233.000000</td>\n",
              "      <td>3566.300000</td>\n",
              "      <td>2780.000000</td>\n",
              "      <td>...</td>\n",
              "      <td>6.842161e+06</td>\n",
              "      <td>74800.000000</td>\n",
              "      <td>7967.000000</td>\n",
              "      <td>454000.000000</td>\n",
              "      <td>98.300000</td>\n",
              "      <td>73.700000</td>\n",
              "      <td>24.700000</td>\n",
              "      <td>292.700000</td>\n",
              "      <td>15.000000</td>\n",
              "      <td>2.000000</td>\n",
              "    </tr>\n",
              "    <tr>\n",
              "      <th>75%</th>\n",
              "      <td>1.560000</td>\n",
              "      <td>2.080000</td>\n",
              "      <td>4.450000</td>\n",
              "      <td>80.890000</td>\n",
              "      <td>44.95000</td>\n",
              "      <td>17.250000</td>\n",
              "      <td>53.50000</td>\n",
              "      <td>323.200000</td>\n",
              "      <td>4645.950000</td>\n",
              "      <td>3122.850000</td>\n",
              "      <td>...</td>\n",
              "      <td>1.357755e+07</td>\n",
              "      <td>107800.000000</td>\n",
              "      <td>15566.000000</td>\n",
              "      <td>487821.500000</td>\n",
              "      <td>99.200000</td>\n",
              "      <td>92.350000</td>\n",
              "      <td>28.600000</td>\n",
              "      <td>371.550000</td>\n",
              "      <td>16.550000</td>\n",
              "      <td>3.000000</td>\n",
              "    </tr>\n",
              "    <tr>\n",
              "      <th>max</th>\n",
              "      <td>1.890000</td>\n",
              "      <td>2.750000</td>\n",
              "      <td>5.980000</td>\n",
              "      <td>834.240000</td>\n",
              "      <td>69.80000</td>\n",
              "      <td>23.500000</td>\n",
              "      <td>131.00000</td>\n",
              "      <td>516.400000</td>\n",
              "      <td>7201.400000</td>\n",
              "      <td>7496.500000</td>\n",
              "      <td>...</td>\n",
              "      <td>6.641807e+07</td>\n",
              "      <td>380800.000000</td>\n",
              "      <td>114492.000000</td>\n",
              "      <td>535451.000000</td>\n",
              "      <td>100.000000</td>\n",
              "      <td>180.400000</td>\n",
              "      <td>40.300000</td>\n",
              "      <td>776.200000</td>\n",
              "      <td>21.300000</td>\n",
              "      <td>4.000000</td>\n",
              "    </tr>\n",
              "  </tbody>\n",
              "</table>\n",
              "<p>8 rows × 29 columns</p>\n",
              "</div>\n",
              "      <button class=\"colab-df-convert\" onclick=\"convertToInteractive('df-796a1f3b-2b72-4ccc-b9d1-20e75105cc27')\"\n",
              "              title=\"Convert this dataframe to an interactive table.\"\n",
              "              style=\"display:none;\">\n",
              "        \n",
              "  <svg xmlns=\"http://www.w3.org/2000/svg\" height=\"24px\"viewBox=\"0 0 24 24\"\n",
              "       width=\"24px\">\n",
              "    <path d=\"M0 0h24v24H0V0z\" fill=\"none\"/>\n",
              "    <path d=\"M18.56 5.44l.94 2.06.94-2.06 2.06-.94-2.06-.94-.94-2.06-.94 2.06-2.06.94zm-11 1L8.5 8.5l.94-2.06 2.06-.94-2.06-.94L8.5 2.5l-.94 2.06-2.06.94zm10 10l.94 2.06.94-2.06 2.06-.94-2.06-.94-.94-2.06-.94 2.06-2.06.94z\"/><path d=\"M17.41 7.96l-1.37-1.37c-.4-.4-.92-.59-1.43-.59-.52 0-1.04.2-1.43.59L10.3 9.45l-7.72 7.72c-.78.78-.78 2.05 0 2.83L4 21.41c.39.39.9.59 1.41.59.51 0 1.02-.2 1.41-.59l7.78-7.78 2.81-2.81c.8-.78.8-2.07 0-2.86zM5.41 20L4 18.59l7.72-7.72 1.47 1.35L5.41 20z\"/>\n",
              "  </svg>\n",
              "      </button>\n",
              "      \n",
              "  <style>\n",
              "    .colab-df-container {\n",
              "      display:flex;\n",
              "      flex-wrap:wrap;\n",
              "      gap: 12px;\n",
              "    }\n",
              "\n",
              "    .colab-df-convert {\n",
              "      background-color: #E8F0FE;\n",
              "      border: none;\n",
              "      border-radius: 50%;\n",
              "      cursor: pointer;\n",
              "      display: none;\n",
              "      fill: #1967D2;\n",
              "      height: 32px;\n",
              "      padding: 0 0 0 0;\n",
              "      width: 32px;\n",
              "    }\n",
              "\n",
              "    .colab-df-convert:hover {\n",
              "      background-color: #E2EBFA;\n",
              "      box-shadow: 0px 1px 2px rgba(60, 64, 67, 0.3), 0px 1px 3px 1px rgba(60, 64, 67, 0.15);\n",
              "      fill: #174EA6;\n",
              "    }\n",
              "\n",
              "    [theme=dark] .colab-df-convert {\n",
              "      background-color: #3B4455;\n",
              "      fill: #D2E3FC;\n",
              "    }\n",
              "\n",
              "    [theme=dark] .colab-df-convert:hover {\n",
              "      background-color: #434B5C;\n",
              "      box-shadow: 0px 1px 3px 1px rgba(0, 0, 0, 0.15);\n",
              "      filter: drop-shadow(0px 1px 2px rgba(0, 0, 0, 0.3));\n",
              "      fill: #FFFFFF;\n",
              "    }\n",
              "  </style>\n",
              "\n",
              "      <script>\n",
              "        const buttonEl =\n",
              "          document.querySelector('#df-796a1f3b-2b72-4ccc-b9d1-20e75105cc27 button.colab-df-convert');\n",
              "        buttonEl.style.display =\n",
              "          google.colab.kernel.accessAllowed ? 'block' : 'none';\n",
              "\n",
              "        async function convertToInteractive(key) {\n",
              "          const element = document.querySelector('#df-796a1f3b-2b72-4ccc-b9d1-20e75105cc27');\n",
              "          const dataTable =\n",
              "            await google.colab.kernel.invokeFunction('convertToInteractive',\n",
              "                                                     [key], {});\n",
              "          if (!dataTable) return;\n",
              "\n",
              "          const docLinkHtml = 'Like what you see? Visit the ' +\n",
              "            '<a target=\"_blank\" href=https://colab.research.google.com/notebooks/data_table.ipynb>data table notebook</a>'\n",
              "            + ' to learn more about interactive tables.';\n",
              "          element.innerHTML = '';\n",
              "          dataTable['output_type'] = 'display_data';\n",
              "          await google.colab.output.renderOutput(dataTable, element);\n",
              "          const docLink = document.createElement('div');\n",
              "          docLink.innerHTML = docLinkHtml;\n",
              "          element.appendChild(docLink);\n",
              "        }\n",
              "      </script>\n",
              "    </div>\n",
              "  </div>\n",
              "  "
            ]
          },
          "metadata": {},
          "execution_count": 13
        }
      ]
    },
    {
      "cell_type": "code",
      "source": [
        "from sklearn.model_selection import KFold\n",
        "kf = KFold(n_splits = 5, shuffle = True)\n",
        "df[\"fold\"] = -1\n",
        "for fold, (train_idx, valid_idx) in enumerate(kf.split(df)):\n",
        "    df.loc[valid_idx, \"fold\"] = fold\n",
        "print(df[\"fold\"].value_counts())\n",
        "#機械学習の準備をしている\n",
        "#データを5等分にしている"
      ],
      "metadata": {
        "id": "vFwNsG3s9uZ7",
        "colab": {
          "base_uri": "https://localhost:8080/"
        },
        "outputId": "d2dd5cd8-8cb7-4e1c-ac01-c861f652b69c"
      },
      "execution_count": null,
      "outputs": [
        {
          "output_type": "stream",
          "name": "stdout",
          "text": [
            "0    10\n",
            "1    10\n",
            "3     9\n",
            "4     9\n",
            "2     9\n",
            "Name: fold, dtype: int64\n"
          ]
        }
      ]
    },
    {
      "cell_type": "code",
      "source": [
        "fold = 0\n",
        "train = df.loc[df[\"fold\"] != fold].copy()\n",
        "valid = df.loc[df[\"fold\"] == fold].copy()\n",
        "print(train.shape, valid.shape)\n",
        "#学習用と検証用に分けている"
      ],
      "metadata": {
        "id": "idL25_qC9ucg",
        "colab": {
          "base_uri": "https://localhost:8080/"
        },
        "outputId": "213ef15e-a66b-4f45-a124-b5327e2c4560"
      },
      "execution_count": null,
      "outputs": [
        {
          "output_type": "stream",
          "name": "stdout",
          "text": [
            "(37, 29) (10, 29)\n"
          ]
        }
      ]
    },
    {
      "cell_type": "code",
      "source": [
        "feat_cols = train.drop(columns = [\"fold\",\"H01405\"]).columns.tolist()\n",
        "print(feat_cols)\n",
        "\n",
        "X_train = train[feat_cols]\n",
        "X_valid = valid[feat_cols]\n",
        "y_train = train[\"H01405\"]\n",
        "y_valid = valid[\"H01405\"]\n",
        "#\"H01405\"==空家率　\n",
        "#これをデータの説明変数から分けている"
      ],
      "metadata": {
        "id": "jOR2QiUZ9ueP",
        "colab": {
          "base_uri": "https://localhost:8080/"
        },
        "outputId": "631d4232-873d-46c7-ef6c-03df07896fae"
      },
      "execution_count": null,
      "outputs": [
        {
          "output_type": "stream",
          "name": "stdout",
          "text": [
            "['birthrate', 'emirate', 'mariirate', 'total_area', 'habit_area', 'Annu_ave_temp', 'Annu_snow_day', 'productivity_land', 'ship_value_goods', 'ship_values_goods_oneman', 'deposit', 'ac_balance_ratio', 'E0110101', 'E0110102', 'E0110103', 'G01101', 'G01104', 'A1306', 'D310411', 'D3203086', 'H1616', 'K4201', 'L3130', 'H06406', 'J022011', 'J02205', 'K04101']\n"
          ]
        }
      ]
    },
    {
      "cell_type": "code",
      "source": [
        "import xgboost as xgb\n",
        "from xgboost import XGBRegressor\n",
        "#XGboostを行うためのライブラリを読み込む"
      ],
      "metadata": {
        "id": "273loPFL9ugF"
      },
      "execution_count": null,
      "outputs": []
    },
    {
      "cell_type": "code",
      "source": [
        "dtrain = xgb.DMatrix(X_train, y_train)\n",
        "dvalid = xgb.DMatrix(X_valid, y_valid)\n",
        "#XGboost用の行列を用意している"
      ],
      "metadata": {
        "id": "DCs1iNIR9uhi"
      },
      "execution_count": null,
      "outputs": []
    },
    {
      "cell_type": "code",
      "source": [
        "params = {\n",
        "    \"objective\" : \"reg:squarederror\",\n",
        "    \"eval_metric\" : \"rmse\",\n",
        "    \"learning_rate\" : 0.008,\n",
        "    'max_depth': 17\n",
        "}\n",
        "#\"reg:squarederror\"回帰モデルの分析をする際に使う、二値分類になると変わる"
      ],
      "metadata": {
        "id": "Pz1nK7yt9ujk"
      },
      "execution_count": null,
      "outputs": []
    },
    {
      "cell_type": "code",
      "source": [
        "model = xgb.train(\n",
        "    params = params,\n",
        "    dtrain = dtrain,\n",
        "    evals = [(dtrain, \"train\"), (dvalid, \"valid\")],\n",
        "    num_boost_round = 1000\n",
        ")\n"
      ],
      "metadata": {
        "id": "3UDh8P1C9umV"
      },
      "execution_count": null,
      "outputs": []
    },
    {
      "cell_type": "code",
      "source": [
        "pred = model.predict(xgb.DMatrix(X_valid))\n",
        "print(pred)"
      ],
      "metadata": {
        "id": "aR2Tg0S29upr",
        "colab": {
          "base_uri": "https://localhost:8080/"
        },
        "outputId": "41841efd-08d1-4e9b-c29c-158f47d3c92a"
      },
      "execution_count": null,
      "outputs": [
        {
          "output_type": "stream",
          "name": "stdout",
          "text": [
            "[17.343727  16.135141  12.025813  13.178171  16.98312   15.201018\n",
            " 14.177564  13.8975115 14.562454  14.589163 ]\n"
          ]
        }
      ]
    },
    {
      "cell_type": "code",
      "source": [
        "import matplotlib.pyplot as plt\n",
        "import numpy as np\n",
        "plt.scatter(y_valid, pred, alpha = 0.5)\n",
        "plt.plot(np.linspace(0, 60, 100), np.linspace(0, 60, 100), \"red\")\n",
        "plt.show()\n",
        "#横軸を正解データ、縦軸を予測値"
      ],
      "metadata": {
        "id": "OeQKoDTp-CRh",
        "colab": {
          "base_uri": "https://localhost:8080/",
          "height": 265
        },
        "outputId": "f9ab590c-1105-48ed-f4c9-6c0db2cd521d"
      },
      "execution_count": null,
      "outputs": [
        {
          "output_type": "display_data",
          "data": {
            "text/plain": [
              "<Figure size 432x288 with 1 Axes>"
            ],
            "image/png": "[encoded data removed]"
          },
          "metadata": {
            "needs_background": "light"
          }
        }
      ]
    },
    {
      "cell_type": "code",
      "source": [
        "from sklearn.metrics import mean_squared_error\n",
        "mse = mean_squared_error(y_valid, pred)\n",
        "rmse = np.sqrt(mse)\n",
        "print(rmse)\n",
        "#平均二乗誤差の平方根(RMSE)"
      ],
      "metadata": {
        "id": "5yHCSCwU-GnO",
        "colab": {
          "base_uri": "https://localhost:8080/"
        },
        "outputId": "dae0965f-eac9-41e5-f78a-04df3cfd4c97"
      },
      "execution_count": null,
      "outputs": [
        {
          "output_type": "stream",
          "name": "stdout",
          "text": [
            "2.3295459244810597\n"
          ]
        }
      ]
    },
    {
      "cell_type": "code",
      "source": [
        "xgb = XGBRegressor(**params)"
      ],
      "metadata": {
        "id": "BvD8Z5e70qWG"
      },
      "execution_count": null,
      "outputs": []
    },
    {
      "cell_type": "code",
      "source": [
        "plot_importance(xgb)"
      ],
      "metadata": {
        "id": "DNG7h0iu037J"
      },
      "execution_count": null,
      "outputs": []
    }
  ]
}